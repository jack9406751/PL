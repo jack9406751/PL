{
 "cells": [
  {
   "cell_type": "code",
   "execution_count": 28,
   "id": "1cc22425",
   "metadata": {},
   "outputs": [],
   "source": [
    "import pandas as pd\n",
    "import re\n",
    "from selenium import webdriver\n",
    "from selenium.webdriver.common.by import By\n",
    "from selenium.webdriver.common.action_chains import ActionChains\n",
    "from selenium.webdriver.support.ui import WebDriverWait\n",
    "from selenium.webdriver.support import expected_conditions as EC\n",
    "import time\n",
    "data = []\n",
    "driver = webdriver.Chrome()  # 或其他瀏覽器\n",
    "driver.get(\"https://www.google.com/maps/place/%E5%96%AB%E5%B0%A4%E5%B9%B3%E5%83%B9%E9%90%B5%E6%9D%BF%E7%87%92+-+%E5%B8%AB%E5%A4%A7%E5%BA%97/@25.0244349,121.5291659,21z/data=!4m6!3m5!1s0x3442a956001e345b:0xc68d8ff3bd381e13!8m2!3d25.024487!4d121.52925!16s%2Fg%2F11pq874tyq?authuser=0&entry=ttu\")\n",
    "html = driver.page_source\n",
    "\n",
    "\n",
    "\n",
    "\n",
    "           \n",
    "           \n",
    "\n",
    "\n",
    "\n",
    "\n",
    "\n",
    "\n",
    "\n",
    "    \n"
   ]
  },
  {
   "cell_type": "markdown",
   "id": "5ab4bcba",
   "metadata": {},
   "source": [
    "將網頁的html程式碼爬蟲下來\n"
   ]
  },
  {
   "cell_type": "code",
   "execution_count": 29,
   "id": "7599fa92",
   "metadata": {},
   "outputs": [],
   "source": [
    "#time.sleep(10)  \n",
    "#xpath = \"//button[contains(text(), '145620')]\"\n",
    "#element = driver.find_element(by=\"css selector\", value = 'class=\"hh2c6 \"'  )\n",
    "\n",
    "\n",
    "#print(element.text) \n",
    "#element.click()  \n",
    "\n",
    "\n",
    "#driver.execute_script(\"window.scrollTo(0, document.body.scrollHeight);\")\n",
    "#time.sleep(2)  \n",
    "\n",
    "\n",
    "#actions = ActionChains(driver)\n",
    "#actions.move_by_offset(200, 300).perform()\n",
    "#time.sleep(2)  \n",
    "\n",
    "\n",
    "#driver.execute_script(\"window.scrollTo(0, document.body.scrollHeight);\")\n",
    "#time.sleep(2) \n",
    "\n",
    "\n"
   ]
  },
  {
   "cell_type": "markdown",
   "id": "9b30b880",
   "metadata": {},
   "source": [
    "在擷取評論的時候發現有些評論沒有加載到 這邊在嘗試加載 但還沒寫好Q\n"
   ]
  },
  {
   "cell_type": "code",
   "execution_count": 30,
   "id": "a6faf8fa",
   "metadata": {},
   "outputs": [
    {
     "name": "stdout",
     "output_type": "stream",
     "text": [
      "店名: 喫尤平價鐵板燒 - 師大店\n"
     ]
    }
   ],
   "source": [
    "pattern = r'<title>(.*?)<\\/title>'\n",
    "match = re.search(pattern, html)\n",
    "if match:\n",
    "    title_text = match.group(1)\n",
    "    cleaned_title = re.sub(r'\\s*-\\s*Google\\s*地圖\\s*', '', title_text)\n",
    "    print(\"店名:\", cleaned_title)"
   ]
  },
  {
   "cell_type": "markdown",
   "id": "f2d31e43",
   "metadata": {},
   "source": [
    "將店家名稱擷取\n"
   ]
  },
  {
   "cell_type": "code",
   "execution_count": 31,
   "id": "d0e723f3",
   "metadata": {},
   "outputs": [
    {
     "name": "stdout",
     "output_type": "stream",
     "text": [
      "106台北市大安區師大路39巷26號 \n"
     ]
    }
   ],
   "source": [
    "\n",
    "pattern = r'地址:\\s*([^\"]+)'\n",
    "match = re.search(pattern, html)\n",
    "if match:\n",
    "    address = match.group(1)\n",
    "    print(address)\n",
    "else :\n",
    "    print(\"no\")\n",
    "    "
   ]
  },
  {
   "cell_type": "markdown",
   "id": "adbee0dd",
   "metadata": {},
   "source": [
    "將店家地址擷取"
   ]
  },
  {
   "cell_type": "code",
   "execution_count": 32,
   "id": "8ae88801",
   "metadata": {},
   "outputs": [
    {
     "name": "stdout",
     "output_type": "stream",
     "text": [
      "評論: 大致上，還算乾淨整潔，份量不多，但好吃，憑學生證還能送一份蔬菜，可以多給一顆星\n",
      "評論: ⭐⭐⭐⭐⭐感謝您的五星好評⭐⭐⭐⭐⭐\n",
      "                                   comment\n",
      "0  大致上，還算乾淨整潔，份量不多，但好吃，憑學生證還能送一份蔬菜，可以多給一顆星\n",
      "1                       ⭐⭐⭐⭐⭐感謝您的五星好評⭐⭐⭐⭐⭐\n",
      "2  大致上，還算乾淨整潔，份量不多，但好吃，憑學生證還能送一份蔬菜，可以多給一顆星\n",
      "3                       ⭐⭐⭐⭐⭐感謝您的五星好評⭐⭐⭐⭐⭐\n"
     ]
    }
   ],
   "source": [
    "pattern = r'wiI7pd.*?>(.*?)<'\n",
    "matches = re.findall(pattern, html)\n",
    "if matches:\n",
    "    for match in matches:\n",
    "        data.extend(matches)\n",
    "        print(\"評論:\", match)\n",
    "\n",
    "\n",
    "df = pd.DataFrame({'comment': data})\n",
    "print(df)\n",
    "driver.quit()"
   ]
  },
  {
   "cell_type": "markdown",
   "id": "741ee66f",
   "metadata": {},
   "source": [
    "將評論擷取並儲存成dataframe格式\n"
   ]
  },
  {
   "cell_type": "code",
   "execution_count": null,
   "id": "398ba9b3",
   "metadata": {},
   "outputs": [],
   "source": []
  }
 ],
 "metadata": {
  "kernelspec": {
   "display_name": "Python 3 (ipykernel)",
   "language": "python",
   "name": "python3"
  },
  "language_info": {
   "codemirror_mode": {
    "name": "ipython",
    "version": 3
   },
   "file_extension": ".py",
   "mimetype": "text/x-python",
   "name": "python",
   "nbconvert_exporter": "python",
   "pygments_lexer": "ipython3",
   "version": "3.9.12"
  }
 },
 "nbformat": 4,
 "nbformat_minor": 5
}
