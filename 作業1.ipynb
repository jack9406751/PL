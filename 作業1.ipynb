{
 "cells": [
  {
   "cell_type": "code",
   "execution_count": 14,
   "id": "b6a23b31",
   "metadata": {},
   "outputs": [],
   "source": [
    "import pandas as pd\n",
    "import requests\n",
    "import numpy as np"
   ]
  },
  {
   "cell_type": "code",
   "execution_count": 15,
   "id": "162eeeb0",
   "metadata": {},
   "outputs": [],
   "source": [
    "df1 = pd.read_csv(\"inorganic.csv\")\n",
    "df2 = pd.read_csv(\"Frontiers.csv\")"
   ]
  },
  {
   "cell_type": "code",
   "execution_count": 16,
   "id": "08f307f9",
   "metadata": {},
   "outputs": [],
   "source": [
    "df1_first_col =set(df1.iloc[:,0])\n",
    "df2_first_col =set(df2.iloc[:,0])"
   ]
  },
  {
   "cell_type": "code",
   "execution_count": 19,
   "id": "956d4d67",
   "metadata": {},
   "outputs": [
    {
     "data": {
      "text/plain": [
       "set"
      ]
     },
     "execution_count": 19,
     "metadata": {},
     "output_type": "execute_result"
    }
   ],
   "source": [
    "type(df1_first_col)\n",
    "type(df2_first_col)"
   ]
  },
  {
   "cell_type": "code",
   "execution_count": 25,
   "id": "b91128d1",
   "metadata": {},
   "outputs": [],
   "source": [
    "difference = df1_first_col - df2_first_col\n",
    "intersection = df1_first_col & df2_first_col\n",
    "union = df1_first_col | df2_first_col\n"
   ]
  },
  {
   "cell_type": "code",
   "execution_count": 26,
   "id": "6a869aeb",
   "metadata": {},
   "outputs": [
    {
     "name": "stdout",
     "output_type": "stream",
     "text": [
      "{'41042102S 陳承宏', '40972026H 李聿淇', '41042122S 李奕辰', '41042222S 鄭芷容', '41042123S 陳宛煖', '41042219S 秦慧芯', '41072055H 洪可倢', '41042139S 朱鈺騰', '41042242S 林杰霖', '41042111S 邱彥棋', '41042106S 黃榆斐', '41042246S 楊惟旭', '41042135S 陳星霓', '41042225S 張秉軒', '61142091S 湯騏勳', '41042126S 林德譯', '41042109S 朱世勛', '41042120S 蕭宇君', '41042208S 葉品妤', '41042204S 洪晢稀', '41042212S 林夏薇', '41042105S 吳明軒', '41042108S 曾力駒', '41042113S 林子容', 'esther0515 鄭惠文', '41042114S 黃昱程', '61142083S 蕭淂雍', '41042232S 李玗玹', '41042103S 黃姵穎', '41042224S 陳美瑄', '40942240S 野口佳惠', '40942104S 柯俊呈', '41042235S 楊雅棠', '41042230S 簡士堯', '41042136S 黃科畯', '41042137S 范耕為', '41042121S 黎宣佑', '41042206S 李旻曦', '41042207S 歐陽庭葳'}\n"
     ]
    }
   ],
   "source": [
    "print(difference)\n",
    "\n"
   ]
  },
  {
   "cell_type": "code",
   "execution_count": 27,
   "id": "d134086a",
   "metadata": {},
   "outputs": [
    {
     "name": "stdout",
     "output_type": "stream",
     "text": [
      "{'41042223S 林萱', '41042140S 張祐嘉', '41042142s 林聿權', '41042141S 鍾岳峰', '41042239S 陳亮宇', '40942221S 黃湧富'}\n"
     ]
    }
   ],
   "source": [
    "print(intersection)"
   ]
  },
  {
   "cell_type": "code",
   "execution_count": 28,
   "id": "0fe9f362",
   "metadata": {},
   "outputs": [
    {
     "name": "stdout",
     "output_type": "stream",
     "text": [
      "{nan, '40972026H 李聿淇', '41142130S 古盛佑', '41142228S 徐柏元', '40642116S 王俊鈞', '40942202S 沈芳裕', '41042140S 張祐嘉', '41142241S 吳念勳', '41042239S 陳亮宇', '41142217S 林玟伶', '41142218S 賴柏佑', '41142140S 許哲昌', '41042123S 陳宛煖', '41042219S 秦慧芯', '41142103S 徐瑋璠', '41142107S 王定家', '41042118S 呂宸吾', '41042241S 蘇芳儀', '41142243S 張簡榆珊', '41142213S 林佑澤', '41142235S 溫廷洋', '41142126S 余德熙', '41042242S 林杰霖', '41142242S 劉禮旭', '41042106S 黃榆斐', '41142230S 郭宜碩', '41071123H 于悅', '41042225S 張秉軒', '41042120S 蕭宇君', '41142214S 細川瞳', '41042204S 洪晢稀', '41142139S 王嘉筠', '41142236S 江承諺', '41042105S 吳明軒', '41142210S 韓昕嬡', '41142121S 張江', '41142135S 郭岳勳', '40942221S 黃湧富', '41142136S 林怡萱', '41142138S 劉怡君', '41142143S 林子安', '41173051H 侯皖庭', '41142109S 吳室?', '40942240S 野口佳惠', '41042142s 林聿權', '41142229S 郭家瑋', '41042136S 黃科畯', '41042206S 李旻曦', '41142104S 洪詠衫', '41042102S 陳承宏', '41042237S 賴柏瑞', '41142115S 黃暄馨', '41042122S 李奕辰', '40842139S 周品叡', '40942128S 羅采妮', '41142215S 楊雲亘', '41042222S 鄭芷容', '41142129S 黃垣皓', '41142127S 黃暄勻', '41142137S 陳法彤', '41142141S 王振宇', '41142120S 吳婕琳', '41142205S 謝孟諺', '41142203S 侯富耀', '41072055H 洪可倢', '41142102S 張高珞', '41042139S 朱鈺騰', '41142113S 蘇宥澄', '41042111S 邱彥棋', '41142226S 呂佳珍', '40941214S 張宸浩', '41170003H 陳明微', '41142125S 張祐瑄', '41042246S 楊惟旭', '41142209S 俞孟昀', '41142208s 李宜鎧', '41042135S 陳星霓', '61142091S 湯騏勳', '41042126S 林德譯', '41142133S 陳冠志', '41042109S 朱世勛', '41142144S 洪藝芸', '41042223S 林萱', '41042208S 葉品妤', '41042212S 林夏薇', '41143207S 李佳儀', '41142132S 龔詩云', '41042108S 曾力駒', '41042113S 林子容', '41142240S 簡韵庭', '41042231S 蔡雨亨', 'esther0515 鄭惠文', '41042141S 鍾岳峰', '41142231S 陳昕妤', '41042114S 黃昱程', '41142207S 方柏凱', '41142201S 林冠豪', '41142108S 黎玟彤', '61142083S 蕭淂雍', '41142239S 王修廷', '41042232S 李玗玹', '41142142S 潘奕璇', '41142238S 劉夏綾', '41142110S 洪宇威', '41142204S 王琮允', '41042103S 黃姵穎', '41142202S 張栩舞', '41142112S 張詔旭', '41042224S 陳美瑄', '41142119S 施侑姍', '40942104S 柯俊呈', '41042235S 楊雅棠', '40842235S 李智祺', '41142211S 黃子芸', '41042230S 簡士堯', '41142225S 張佐宸', '41142232S 顧凱鈞', '40842121S 張碩耘', '41042137S 范耕為', '41042121S 黎宣佑', '41042207S 歐陽庭葳'}\n"
     ]
    }
   ],
   "source": [
    "print(union)"
   ]
  },
  {
   "cell_type": "code",
   "execution_count": null,
   "id": "ffac7f05",
   "metadata": {},
   "outputs": [],
   "source": []
  }
 ],
 "metadata": {
  "kernelspec": {
   "display_name": "Python 3 (ipykernel)",
   "language": "python",
   "name": "python3"
  },
  "language_info": {
   "codemirror_mode": {
    "name": "ipython",
    "version": 3
   },
   "file_extension": ".py",
   "mimetype": "text/x-python",
   "name": "python",
   "nbconvert_exporter": "python",
   "pygments_lexer": "ipython3",
   "version": "3.9.12"
  }
 },

 "nbformat": 4,
 "nbformat_minor": 5
}

